{
  "nbformat": 4,
  "nbformat_minor": 0,
  "metadata": {
    "kernelspec": {
      "display_name": "Python 3",
      "name": "python3"
    },
    "language_info": {
      "codemirror_mode": {
        "name": "ipython",
        "version": 3
      },
      "file_extension": ".py",
      "mimetype": "text/x-python",
      "name": "python",
      "nbconvert_exporter": "python",
      "pygments_lexer": "ipython3",
      "version": "3.7.3"
    },
    "colab": {
      "provenance": [],
      "gpuType": "T4"
    },
    "accelerator": "GPU"
  },
  "cells": [
    {
      "cell_type": "markdown",
      "metadata": {
        "id": "XuXWJLEm2UWS"
      },
      "source": [
        "# **CS224W - Colab 1**"
      ]
    },
    {
      "cell_type": "markdown",
      "metadata": {
        "id": "8gzsP50bF6Gb"
      },
      "source": [
        "In this Colab, we will write a full pipeline for **learning node embeddings**.\n",
        "We will go through the following 3 steps.\n",
        "\n",
        "To start, we will load a classic graph in network science, the [Karate Club Network](https://en.wikipedia.org/wiki/Zachary%27s_karate_club). We will explore multiple graph statistics for that graph.\n",
        "\n",
        "We will then work together to transform the graph structure into a PyTorch tensor, so that we can perform machine learning over the graph.\n",
        "\n",
        "Finally, we will finish the first learning algorithm on graphs: a node embedding model. For simplicity, our model here is simpler than DeepWalk / node2vec algorithms taught in the lecture. But it's still rewarding and challenging, as we will write it from scratch via PyTorch.\n",
        "\n",
        "Now let's get started! This Colab should take roughly 1 hour to complete.\n",
        "\n",
        "**Note**: Make sure to **restart and run all** before submission, so that the intermediate variables / packages will carry over to the next cell"
      ]
    },
    {
      "cell_type": "markdown",
      "metadata": {
        "id": "Nwwq0nSdmsOL"
      },
      "source": [
        "# 1 Graph Basics\n",
        "To start, we will load a classic graph in network science, the [Karate Club Network](https://en.wikipedia.org/wiki/Zachary%27s_karate_club). We will explore multiple graph statistics for that graph."
      ]
    },
    {
      "cell_type": "markdown",
      "metadata": {
        "id": "FDkpByYYfSzb"
      },
      "source": [
        "## Setup\n",
        "We will heavily use NetworkX in this Colab."
      ]
    },
    {
      "cell_type": "code",
      "metadata": {
        "id": "VWPkJjPAfVNW"
      },
      "source": [
        "import networkx as nx"
      ],
      "execution_count": 1,
      "outputs": []
    },
    {
      "cell_type": "markdown",
      "metadata": {
        "id": "VqUnYT5qUZYh"
      },
      "source": [
        "## Zachary's karate club network\n",
        "\n",
        "The [Karate Club Network](https://en.wikipedia.org/wiki/Zachary%27s_karate_club) is a graph which describes a social network of 34 members of a karate club and documents links between members who interacted outside the club."
      ]
    },
    {
      "cell_type": "code",
      "metadata": {
        "id": "VIETqEfrfy5Y",
        "colab": {
          "base_uri": "https://localhost:8080/",
          "height": 187
        },
        "outputId": "cb0b766a-e8cc-4ae0-f21a-eeb36a28140c"
      },
      "source": [
        "G = nx.karate_club_graph()\n",
        "\n",
        "# G is an undirected graph\n",
        "type(G)"
      ],
      "execution_count": 2,
      "outputs": [
        {
          "output_type": "execute_result",
          "data": {
            "text/plain": [
              "networkx.classes.graph.Graph"
            ],
            "text/html": [
              "<div style=\"max-width:800px; border: 1px solid var(--colab-border-color);\"><style>\n",
              "      pre.function-repr-contents {\n",
              "        overflow-x: auto;\n",
              "        padding: 8px 12px;\n",
              "        max-height: 500px;\n",
              "      }\n",
              "\n",
              "      pre.function-repr-contents.function-repr-contents-collapsed {\n",
              "        cursor: pointer;\n",
              "        max-height: 100px;\n",
              "      }\n",
              "    </style>\n",
              "    <pre style=\"white-space: initial; background:\n",
              "         var(--colab-secondary-surface-color); padding: 8px 12px;\n",
              "         border-bottom: 1px solid var(--colab-border-color);\"><b>networkx.classes.graph.Graph</b><br/>def __init__(incoming_graph_data=None, **attr)</pre><pre class=\"function-repr-contents function-repr-contents-collapsed\" style=\"\"><a class=\"filepath\" style=\"display:none\" href=\"#\">/usr/local/lib/python3.10/dist-packages/networkx/classes/graph.py</a>Base class for undirected graphs.\n",
              "\n",
              "A Graph stores nodes and edges with optional data, or attributes.\n",
              "\n",
              "Graphs hold undirected edges.  Self loops are allowed but multiple\n",
              "(parallel) edges are not.\n",
              "\n",
              "Nodes can be arbitrary (hashable) Python objects with optional\n",
              "key/value attributes, except that `None` is not allowed as a node.\n",
              "\n",
              "Edges are represented as links between nodes with optional\n",
              "key/value attributes.\n",
              "\n",
              "Parameters\n",
              "----------\n",
              "incoming_graph_data : input graph (optional, default: None)\n",
              "    Data to initialize graph. If None (default) an empty\n",
              "    graph is created.  The data can be any format that is supported\n",
              "    by the to_networkx_graph() function, currently including edge list,\n",
              "    dict of dicts, dict of lists, NetworkX graph, 2D NumPy array, SciPy\n",
              "    sparse matrix, or PyGraphviz graph.\n",
              "\n",
              "attr : keyword arguments, optional (default= no attributes)\n",
              "    Attributes to add to graph as key=value pairs.\n",
              "\n",
              "See Also\n",
              "--------\n",
              "DiGraph\n",
              "MultiGraph\n",
              "MultiDiGraph\n",
              "\n",
              "Examples\n",
              "--------\n",
              "Create an empty graph structure (a &quot;null graph&quot;) with no nodes and\n",
              "no edges.\n",
              "\n",
              "&gt;&gt;&gt; G = nx.Graph()\n",
              "\n",
              "G can be grown in several ways.\n",
              "\n",
              "**Nodes:**\n",
              "\n",
              "Add one node at a time:\n",
              "\n",
              "&gt;&gt;&gt; G.add_node(1)\n",
              "\n",
              "Add the nodes from any container (a list, dict, set or\n",
              "even the lines from a file or the nodes from another graph).\n",
              "\n",
              "&gt;&gt;&gt; G.add_nodes_from([2, 3])\n",
              "&gt;&gt;&gt; G.add_nodes_from(range(100, 110))\n",
              "&gt;&gt;&gt; H = nx.path_graph(10)\n",
              "&gt;&gt;&gt; G.add_nodes_from(H)\n",
              "\n",
              "In addition to strings and integers any hashable Python object\n",
              "(except None) can represent a node, e.g. a customized node object,\n",
              "or even another Graph.\n",
              "\n",
              "&gt;&gt;&gt; G.add_node(H)\n",
              "\n",
              "**Edges:**\n",
              "\n",
              "G can also be grown by adding edges.\n",
              "\n",
              "Add one edge,\n",
              "\n",
              "&gt;&gt;&gt; G.add_edge(1, 2)\n",
              "\n",
              "a list of edges,\n",
              "\n",
              "&gt;&gt;&gt; G.add_edges_from([(1, 2), (1, 3)])\n",
              "\n",
              "or a collection of edges,\n",
              "\n",
              "&gt;&gt;&gt; G.add_edges_from(H.edges)\n",
              "\n",
              "If some edges connect nodes not yet in the graph, the nodes\n",
              "are added automatically.  There are no errors when adding\n",
              "nodes or edges that already exist.\n",
              "\n",
              "**Attributes:**\n",
              "\n",
              "Each graph, node, and edge can hold key/value attribute pairs\n",
              "in an associated attribute dictionary (the keys must be hashable).\n",
              "By default these are empty, but can be added or changed using\n",
              "add_edge, add_node or direct manipulation of the attribute\n",
              "dictionaries named graph, node and edge respectively.\n",
              "\n",
              "&gt;&gt;&gt; G = nx.Graph(day=&quot;Friday&quot;)\n",
              "&gt;&gt;&gt; G.graph\n",
              "{&#x27;day&#x27;: &#x27;Friday&#x27;}\n",
              "\n",
              "Add node attributes using add_node(), add_nodes_from() or G.nodes\n",
              "\n",
              "&gt;&gt;&gt; G.add_node(1, time=&quot;5pm&quot;)\n",
              "&gt;&gt;&gt; G.add_nodes_from([3], time=&quot;2pm&quot;)\n",
              "&gt;&gt;&gt; G.nodes[1]\n",
              "{&#x27;time&#x27;: &#x27;5pm&#x27;}\n",
              "&gt;&gt;&gt; G.nodes[1][&quot;room&quot;] = 714  # node must exist already to use G.nodes\n",
              "&gt;&gt;&gt; del G.nodes[1][&quot;room&quot;]  # remove attribute\n",
              "&gt;&gt;&gt; list(G.nodes(data=True))\n",
              "[(1, {&#x27;time&#x27;: &#x27;5pm&#x27;}), (3, {&#x27;time&#x27;: &#x27;2pm&#x27;})]\n",
              "\n",
              "Add edge attributes using add_edge(), add_edges_from(), subscript\n",
              "notation, or G.edges.\n",
              "\n",
              "&gt;&gt;&gt; G.add_edge(1, 2, weight=4.7)\n",
              "&gt;&gt;&gt; G.add_edges_from([(3, 4), (4, 5)], color=&quot;red&quot;)\n",
              "&gt;&gt;&gt; G.add_edges_from([(1, 2, {&quot;color&quot;: &quot;blue&quot;}), (2, 3, {&quot;weight&quot;: 8})])\n",
              "&gt;&gt;&gt; G[1][2][&quot;weight&quot;] = 4.7\n",
              "&gt;&gt;&gt; G.edges[1, 2][&quot;weight&quot;] = 4\n",
              "\n",
              "Warning: we protect the graph data structure by making `G.edges` a\n",
              "read-only dict-like structure. However, you can assign to attributes\n",
              "in e.g. `G.edges[1, 2]`. Thus, use 2 sets of brackets to add/change\n",
              "data attributes: `G.edges[1, 2][&#x27;weight&#x27;] = 4`\n",
              "(For multigraphs: `MG.edges[u, v, key][name] = value`).\n",
              "\n",
              "**Shortcuts:**\n",
              "\n",
              "Many common graph features allow python syntax to speed reporting.\n",
              "\n",
              "&gt;&gt;&gt; 1 in G  # check if node in graph\n",
              "True\n",
              "&gt;&gt;&gt; [n for n in G if n &lt; 3]  # iterate through nodes\n",
              "[1, 2]\n",
              "&gt;&gt;&gt; len(G)  # number of nodes in graph\n",
              "5\n",
              "\n",
              "Often the best way to traverse all edges of a graph is via the neighbors.\n",
              "The neighbors are reported as an adjacency-dict `G.adj` or `G.adjacency()`\n",
              "\n",
              "&gt;&gt;&gt; for n, nbrsdict in G.adjacency():\n",
              "...     for nbr, eattr in nbrsdict.items():\n",
              "...         if &quot;weight&quot; in eattr:\n",
              "...             # Do something useful with the edges\n",
              "...             pass\n",
              "\n",
              "But the edges() method is often more convenient:\n",
              "\n",
              "&gt;&gt;&gt; for u, v, weight in G.edges.data(&quot;weight&quot;):\n",
              "...     if weight is not None:\n",
              "...         # Do something useful with the edges\n",
              "...         pass\n",
              "\n",
              "**Reporting:**\n",
              "\n",
              "Simple graph information is obtained using object-attributes and methods.\n",
              "Reporting typically provides views instead of containers to reduce memory\n",
              "usage. The views update as the graph is updated similarly to dict-views.\n",
              "The objects `nodes`, `edges` and `adj` provide access to data attributes\n",
              "via lookup (e.g. `nodes[n]`, `edges[u, v]`, `adj[u][v]`) and iteration\n",
              "(e.g. `nodes.items()`, `nodes.data(&#x27;color&#x27;)`,\n",
              "`nodes.data(&#x27;color&#x27;, default=&#x27;blue&#x27;)` and similarly for `edges`)\n",
              "Views exist for `nodes`, `edges`, `neighbors()`/`adj` and `degree`.\n",
              "\n",
              "For details on these and other miscellaneous methods, see below.\n",
              "\n",
              "**Subclasses (Advanced):**\n",
              "\n",
              "The Graph class uses a dict-of-dict-of-dict data structure.\n",
              "The outer dict (node_dict) holds adjacency information keyed by node.\n",
              "The next dict (adjlist_dict) represents the adjacency information and holds\n",
              "edge data keyed by neighbor.  The inner dict (edge_attr_dict) represents\n",
              "the edge data and holds edge attribute values keyed by attribute names.\n",
              "\n",
              "Each of these three dicts can be replaced in a subclass by a user defined\n",
              "dict-like object. In general, the dict-like features should be\n",
              "maintained but extra features can be added. To replace one of the\n",
              "dicts create a new graph class by changing the class(!) variable\n",
              "holding the factory for that dict-like structure.\n",
              "\n",
              "node_dict_factory : function, (default: dict)\n",
              "    Factory function to be used to create the dict containing node\n",
              "    attributes, keyed by node id.\n",
              "    It should require no arguments and return a dict-like object\n",
              "\n",
              "node_attr_dict_factory: function, (default: dict)\n",
              "    Factory function to be used to create the node attribute\n",
              "    dict which holds attribute values keyed by attribute name.\n",
              "    It should require no arguments and return a dict-like object\n",
              "\n",
              "adjlist_outer_dict_factory : function, (default: dict)\n",
              "    Factory function to be used to create the outer-most dict\n",
              "    in the data structure that holds adjacency info keyed by node.\n",
              "    It should require no arguments and return a dict-like object.\n",
              "\n",
              "adjlist_inner_dict_factory : function, (default: dict)\n",
              "    Factory function to be used to create the adjacency list\n",
              "    dict which holds edge data keyed by neighbor.\n",
              "    It should require no arguments and return a dict-like object\n",
              "\n",
              "edge_attr_dict_factory : function, (default: dict)\n",
              "    Factory function to be used to create the edge attribute\n",
              "    dict which holds attribute values keyed by attribute name.\n",
              "    It should require no arguments and return a dict-like object.\n",
              "\n",
              "graph_attr_dict_factory : function, (default: dict)\n",
              "    Factory function to be used to create the graph attribute\n",
              "    dict which holds attribute values keyed by attribute name.\n",
              "    It should require no arguments and return a dict-like object.\n",
              "\n",
              "Typically, if your extension doesn&#x27;t impact the data structure all\n",
              "methods will inherit without issue except: `to_directed/to_undirected`.\n",
              "By default these methods create a DiGraph/Graph class and you probably\n",
              "want them to create your extension of a DiGraph/Graph. To facilitate\n",
              "this we define two class variables that you can set in your subclass.\n",
              "\n",
              "to_directed_class : callable, (default: DiGraph or MultiDiGraph)\n",
              "    Class to create a new graph structure in the `to_directed` method.\n",
              "    If `None`, a NetworkX class (DiGraph or MultiDiGraph) is used.\n",
              "\n",
              "to_undirected_class : callable, (default: Graph or MultiGraph)\n",
              "    Class to create a new graph structure in the `to_undirected` method.\n",
              "    If `None`, a NetworkX class (Graph or MultiGraph) is used.\n",
              "\n",
              "**Subclassing Example**\n",
              "\n",
              "Create a low memory graph class that effectively disallows edge\n",
              "attributes by using a single attribute dict for all edges.\n",
              "This reduces the memory used, but you lose edge attributes.\n",
              "\n",
              "&gt;&gt;&gt; class ThinGraph(nx.Graph):\n",
              "...     all_edge_dict = {&quot;weight&quot;: 1}\n",
              "...\n",
              "...     def single_edge_dict(self):\n",
              "...         return self.all_edge_dict\n",
              "...\n",
              "...     edge_attr_dict_factory = single_edge_dict\n",
              "&gt;&gt;&gt; G = ThinGraph()\n",
              "&gt;&gt;&gt; G.add_edge(2, 1)\n",
              "&gt;&gt;&gt; G[2][1]\n",
              "{&#x27;weight&#x27;: 1}\n",
              "&gt;&gt;&gt; G.add_edge(2, 2)\n",
              "&gt;&gt;&gt; G[2][1] is G[2][2]\n",
              "True</pre>\n",
              "      <script>\n",
              "      if (google.colab.kernel.accessAllowed && google.colab.files && google.colab.files.view) {\n",
              "        for (const element of document.querySelectorAll('.filepath')) {\n",
              "          element.style.display = 'block'\n",
              "          element.onclick = (event) => {\n",
              "            event.preventDefault();\n",
              "            event.stopPropagation();\n",
              "            google.colab.files.view(element.textContent, 66);\n",
              "          };\n",
              "        }\n",
              "      }\n",
              "      for (const element of document.querySelectorAll('.function-repr-contents')) {\n",
              "        element.onclick = (event) => {\n",
              "          event.preventDefault();\n",
              "          event.stopPropagation();\n",
              "          element.classList.toggle('function-repr-contents-collapsed');\n",
              "        };\n",
              "      }\n",
              "      </script>\n",
              "      </div>"
            ]
          },
          "metadata": {},
          "execution_count": 2
        }
      ]
    },
    {
      "cell_type": "code",
      "metadata": {
        "id": "hDvf3nm-ors4",
        "colab": {
          "base_uri": "https://localhost:8080/",
          "height": 516
        },
        "outputId": "56acb697-9dbf-4ae8-e64c-c311c4efd9ca"
      },
      "source": [
        "# Visualize the graph\n",
        "nx.draw(G, with_labels = True)"
      ],
      "execution_count": 3,
      "outputs": [
        {
          "output_type": "display_data",
          "data": {
            "text/plain": [
              "<Figure size 640x480 with 1 Axes>"
            ],
            "image/png": "[encoded data removed]"
          },
          "metadata": {}
        }
      ]
    },
    {
      "cell_type": "markdown",
      "metadata": {
        "id": "FX25Y1CrYmgN"
      },
      "source": [
        "## Question 1: What is the average degree of the karate club network? (5 Points)"
      ]
    },
    {
      "cell_type": "code",
      "metadata": {
        "id": "AUhES1VYo3tB",
        "colab": {
          "base_uri": "https://localhost:8080/"
        },
        "outputId": "c0ad78b3-7afc-4f55-b273-bf4336695dbc"
      },
      "source": [
        "def average_degree(num_edges, num_nodes):\n",
        "  # TODO: Implement this function that takes number of edges\n",
        "  # and number of nodes, and returns the average node degree of\n",
        "  # the graph. Round the result to nearest integer (for example\n",
        "  # 3.3 will be rounded to 3 and 3.7 will be rounded to 4)\n",
        "\n",
        "  avg_degree = 0\n",
        "\n",
        "  ############# Your code here ############\n",
        "  avg_degree = (2 * num_edges) / num_nodes\n",
        "  avg_degree = round(avg_degree, 1)\n",
        "\n",
        "  #########################################\n",
        "\n",
        "  return avg_degree\n",
        "\n",
        "num_edges = G.number_of_edges()\n",
        "num_nodes = G.number_of_nodes()\n",
        "avg_degree = average_degree(num_edges, num_nodes)\n",
        "print(\"Average degree of karate club network is {}\".format(avg_degree))"
      ],
      "execution_count": 20,
      "outputs": [
        {
          "output_type": "stream",
          "name": "stdout",
          "text": [
            "Average degree of karate club network is 4.6\n"
          ]
        }
      ]
    },
    {
      "cell_type": "markdown",
      "metadata": {
        "id": "Fk02fD4vYmZI"
      },
      "source": [
        "## Question 2: What is the average clustering coefficient of the karate club network? (5 Points)"
      ]
    },
    {
      "cell_type": "code",
      "metadata": {
        "id": "k15XKEto1aYJ",
        "colab": {
          "base_uri": "https://localhost:8080/"
        },
        "outputId": "0e99b33d-8fbb-4d5b-acf6-a6b61cdfab54"
      },
      "source": [
        "def average_clustering_coefficient(G):\n",
        "  # TODO: Implement this function that takes a nx.Graph\n",
        "  # and returns the average clustering coefficient. Round\n",
        "  # the result to 2 decimal places (for example 3.333 will\n",
        "  # be rounded to 3.33 and 3.7571 will be rounded to 3.76)\n",
        "\n",
        "  avg_cluster_coef = 0\n",
        "\n",
        "\n",
        "  ############# Your code here ############\n",
        "  ## Note:\n",
        "  ## 1: Please use the appropriate NetworkX clustering function\n",
        "  avg_cluster_coef = round(nx.average_clustering(G), 2)\n",
        "\n",
        "  #########################################\n",
        "\n",
        "  return avg_cluster_coef\n",
        "\n",
        "avg_cluster_coef = average_clustering_coefficient(G)\n",
        "print(\"Average clustering coefficient of karate club network is {}\".format(avg_cluster_coef))"
      ],
      "execution_count": 9,
      "outputs": [
        {
          "output_type": "stream",
          "name": "stdout",
          "text": [
            "Average clustering coefficient of karate club network is 0.57\n"
          ]
        }
      ]
    },
    {
      "cell_type": "markdown",
      "metadata": {
        "id": "zghQ-AhXYmP4"
      },
      "source": [
        "## Question 3: What is the PageRank value for node 0 (node with id 0) after one PageRank iteration? (5 Points)\n",
        "\n",
        "Page Rank measures importance of nodes in a graph using the link structure of the web. A “vote” from an important page is worth more. Specifically, if  a page $i$ with importance $r_i$ has $d_i$ out-links, then each link gets $\\frac{r_i}{d_i}$ votes. Thus, the importance of a Page $j$, represented as $r_j$ is the sum of the votes on its in links.\n",
        "$$r_j = \\sum_{i \\rightarrow j} \\frac{r_i}{d_i}$$, where $d_i$ is the out degree of node $i$.\n",
        "\n",
        "The PageRank algorithm (used by Google) outputs a probability distribution which represent the likelihood of a random surfer clicking on links will arrive at any particular page. At each time step, the random surfer has two options\n",
        "- With prob. $\\beta$, follow a link at random\n",
        "- With prob. $1- \\beta$, jump to a random page\n",
        "\n",
        "Thus, the importance of a particular page is calculated with the following PageRank equation:\n",
        " $$r_j = \\sum_{i \\rightarrow j} \\beta \\frac{r_i}{d_i} + (1 - \\beta) \\frac{1}{N}$$\n",
        "\n",
        "Please complete the code block by implementing the above PageRank equation for node 0.\n",
        "\n",
        "Note - You can refer to more information from the slides here - http://snap.stanford.edu/class/cs224w-2020/slides/04-pagerank.pdf\n",
        "\n",
        "\n"
      ]
    },
    {
      "cell_type": "code",
      "metadata": {
        "id": "BOGdWjNc6O7x",
        "colab": {
          "base_uri": "https://localhost:8080/"
        },
        "outputId": "26f4e5cb-faf1-4e4d-baf0-055c3ac5acac"
      },
      "source": [
        "def one_iter_pagerank(G, beta, r0, node_id):\n",
        "  # TODO: Implement this function that takes a nx.Graph, beta, r0 and node id.\n",
        "  # The return value r1 is one interation PageRank value for the input node.\n",
        "  # Please round r1 to 2 decimal places.\n",
        "\n",
        "  r1 = 0\n",
        "\n",
        "  ############# Your code here ############\n",
        "  ## Note:\n",
        "  ## 1: You should not use nx.pagerank\n",
        "  # print(G.adj[node_id])\n",
        "  # Degree of node 1\n",
        "  print(\"Node {} has degree {}\".format(node_id, G.degree[node_id]))\n",
        "  # Get neighbor of node 1\n",
        "  sum = 0\n",
        "  for neighbor in G.neighbors(node_id):\n",
        "    # print(\"Node {} has neighbor {}\".format(node_id, neighbor))\n",
        "    sum += beta * (r0 / G.degree(neighbor))\n",
        "\n",
        "  #########################################\n",
        "  r1 = sum + ((1 - beta) / G.number_of_nodes())\n",
        "  r1 = round(r1, 2)\n",
        "\n",
        "  return r1\n",
        "\n",
        "beta = 0.8\n",
        "r0 = 1 / G.number_of_nodes()\n",
        "node = 0\n",
        "r1 = one_iter_pagerank(G, beta, r0, node)\n",
        "print(\"The PageRank value for node 0 after one iteration is {}\".format(r1))"
      ],
      "execution_count": 29,
      "outputs": [
        {
          "output_type": "stream",
          "name": "stdout",
          "text": [
            "Node 0 has degree 16\n",
            "The PageRank value for node 0 after one iteration is 0.13\n"
          ]
        }
      ]
    },
    {
      "cell_type": "markdown",
      "metadata": {
        "id": "icTcOULeYmIu"
      },
      "source": [
        "## Question 4: What is the (raw) closeness centrality for the karate club network node 5? (5 Points)\n",
        "\n",
        "The equation for closeness centrality is $c(v) = \\frac{1}{\\sum_{u \\neq v}\\text{shortest path length between } u \\text{ and } v}$"
      ]
    },
    {
      "cell_type": "code",
      "metadata": {
        "id": "XbCsq_tl-3ok",
        "colab": {
          "base_uri": "https://localhost:8080/"
        },
        "outputId": "007e9ae7-8363-4771-e91e-538bdf1c87ce"
      },
      "source": [
        "def closeness_centrality(G, node=5):\n",
        "  # TODO: Implement the function that calculates closeness centrality\n",
        "  # for a node in karate club network. G is the input karate club\n",
        "  # network and node is the node id in the graph. Please round the\n",
        "  # closeness centrality result to 2 decimal places.\n",
        "\n",
        "  closeness = 0\n",
        "\n",
        "  ## Note:\n",
        "  ## 1: You can use networkx closeness centrality function.\n",
        "  ## 2: Notice that networkx closeness centrality returns the normalized\n",
        "  ## closeness directly, which is different from the raw (unnormalized)\n",
        "  ## one that we learned in the lecture.\n",
        "  normalized_closeness_centrality = nx.closeness_centrality(G, u=node)\n",
        "  closeness = normalized_closeness_centrality / ( G.number_of_nodes() - 1 )\n",
        "  # Alternate solution to address the normalized closeness centrality\n",
        "  # closeness = normalized_closeness_centrality / len(nx.node_connected_component(G, node)) - 1\n",
        "  closeness = round(closeness, 2)\n",
        "  #########################################\n",
        "\n",
        "  return closeness\n",
        "\n",
        "node = 5\n",
        "closeness = closeness_centrality(G, node=node)\n",
        "print(\"The node 5 has closeness centrality {}\".format(closeness))"
      ],
      "execution_count": 36,
      "outputs": [
        {
          "output_type": "stream",
          "name": "stdout",
          "text": [
            "The node 5 has closeness centrality 0.01\n"
          ]
        }
      ]
    },
    {
      "cell_type": "markdown",
      "metadata": {
        "id": "-MxvowibYl4x"
      },
      "source": [
        "# 2 Graph to Tensor\n",
        "We will then work together to transform the graph $G$ into a PyTorch tensor, so that we can perform machine learning over the graph."
      ]
    },
    {
      "cell_type": "markdown",
      "metadata": {
        "id": "eDA8PosrA-9V"
      },
      "source": [
        "## Setup\n",
        "Check if PyTorch is properly installed"
      ]
    },
    {
      "cell_type": "code",
      "metadata": {
        "id": "ntuPVat_BAf1",
        "colab": {
          "base_uri": "https://localhost:8080/"
        },
        "outputId": "a3ffa3a4-dea7-4e66-906e-d3bdcf33a219"
      },
      "source": [
        "import torch\n",
        "print(torch.__version__)"
      ],
      "execution_count": 33,
      "outputs": [
        {
          "output_type": "stream",
          "name": "stdout",
          "text": [
            "2.3.1+cu121\n"
          ]
        }
      ]
    },
    {
      "cell_type": "markdown",
      "metadata": {
        "id": "fko_2wSKYlun"
      },
      "source": [
        "## PyTorch tensor basics\n",
        "\n",
        "We can generate PyTorch tensor with all zeros, ones or random values."
      ]
    },
    {
      "cell_type": "code",
      "metadata": {
        "id": "W2ySw3m-A9qF",
        "colab": {
          "base_uri": "https://localhost:8080/"
        },
        "outputId": "8d3e82b2-f0ee-40a4-e743-4d1f9b6804d3"
      },
      "source": [
        "# Generate 3 x 4 tensor with all ones\n",
        "ones = torch.ones(3, 4)\n",
        "print(ones)\n",
        "\n",
        "# Generate 3 x 4 tensor with all zeros\n",
        "zeros = torch.zeros(3, 4)\n",
        "print(zeros)\n",
        "\n",
        "# Generate 3 x 4 tensor with random values on the interval [0, 1)\n",
        "random_tensor = torch.rand(3, 4)\n",
        "print(random_tensor)\n",
        "\n",
        "# Get the shape of the tensor\n",
        "print(ones.shape)"
      ],
      "execution_count": 37,
      "outputs": [
        {
          "output_type": "stream",
          "name": "stdout",
          "text": [
            "tensor([[1., 1., 1., 1.],\n",
            "        [1., 1., 1., 1.],\n",
            "        [1., 1., 1., 1.]])\n",
            "tensor([[0., 0., 0., 0.],\n",
            "        [0., 0., 0., 0.],\n",
            "        [0., 0., 0., 0.]])\n",
            "tensor([[0.5782, 0.6187, 0.1915, 0.3839],\n",
            "        [0.1142, 0.5502, 0.2648, 0.7607],\n",
            "        [0.4674, 0.8385, 0.5533, 0.5507]])\n",
            "torch.Size([3, 4])\n"
          ]
        }
      ]
    },
    {
      "cell_type": "markdown",
      "metadata": {
        "id": "x8mp66eHBxWC"
      },
      "source": [
        "PyTorch tensor contains elements for a single data type, the `dtype`."
      ]
    },
    {
      "cell_type": "code",
      "metadata": {
        "id": "rQiOvKJJBwq4",
        "colab": {
          "base_uri": "https://localhost:8080/"
        },
        "outputId": "1ce7c557-c8bb-480e-df27-9363aec5c349"
      },
      "source": [
        "# Create a 3 x 4 tensor with all 32-bit floating point zeros\n",
        "zeros = torch.zeros(3, 4, dtype=torch.float32)\n",
        "print(zeros.dtype)\n",
        "\n",
        "# Change the tensor dtype to 64-bit integer\n",
        "zeros = zeros.type(torch.long)\n",
        "print(zeros.dtype)"
      ],
      "execution_count": 35,
      "outputs": [
        {
          "output_type": "stream",
          "name": "stdout",
          "text": [
            "torch.float32\n",
            "torch.int64\n"
          ]
        }
      ]
    },
    {
      "cell_type": "markdown",
      "metadata": {
        "id": "I9EfegIRDkk2"
      },
      "source": [
        "## Question 5: Get the edge list of the karate club network and transform it into `torch.LongTensor`. What is the `torch.sum` value of `pos_edge_index` tensor? (10 Points)"
      ]
    },
    {
      "cell_type": "code",
      "metadata": {
        "id": "kEtVxMFID3ZT",
        "colab": {
          "base_uri": "https://localhost:8080/"
        },
        "outputId": "3d407564-05d7-4bfc-95ff-719115373afd"
      },
      "source": [
        "def graph_to_edge_list(G):\n",
        "  # TODO: Implement the function that returns the edge list of\n",
        "  # an nx.Graph. The returned edge_list should be a list of tuples\n",
        "  # where each tuple is a tuple representing an edge connected\n",
        "  # by two nodes.\n",
        "\n",
        "  edge_list = []\n",
        "\n",
        "  ############# Your code here ############\n",
        "  for edge in G.edges():\n",
        "      edge_list.append(edge)\n",
        "\n",
        "  #########################################\n",
        "\n",
        "  return edge_list\n",
        "\n",
        "def edge_list_to_tensor(edge_list):\n",
        "  # TODO: Implement the function that transforms the edge_list to\n",
        "  # tensor. The input edge_list is a list of tuples and the resulting\n",
        "  # tensor should have the shape [2, len(edge_list)].\n",
        "\n",
        "  edge_index = torch.tensor([])\n",
        "\n",
        "  ############# Your code here ############\n",
        "  edge_index = torch.tensor(edge_list).T\n",
        "  #########################################\n",
        "\n",
        "  return edge_index\n",
        "\n",
        "pos_edge_list = graph_to_edge_list(G)\n",
        "pos_edge_index = edge_list_to_tensor(pos_edge_list)\n",
        "print(\"The pos_edge_index tensor has shape {}\".format(pos_edge_index.shape))\n",
        "print(\"The pos_edge_index tensor has sum value {}\".format(torch.sum(pos_edge_index)))"
      ],
      "execution_count": 43,
      "outputs": [
        {
          "output_type": "stream",
          "name": "stdout",
          "text": [
            "The pos_edge_index tensor has shape torch.Size([2, 78])\n",
            "The pos_edge_index tensor has sum value 2535\n"
          ]
        }
      ]
    },
    {
      "cell_type": "markdown",
      "metadata": {
        "id": "UBL-ZmdHWqIu"
      },
      "source": [
        "## Question 6: Please implement following function that samples negative edges. Then answer which edges (edge_1 to edge_5) are the negative edges in the karate club network? (10 Points)\n",
        "\n",
        "\"Negative\" edges refer to the edges/links that do not exist in the graph. The term \"negative\" is borrowed from \"negative sampling\" in link prediction. It has nothing to do with the edge weights.\n",
        "\n",
        "For example, given an edge (src, dst), you should check that neither (src, dst) nor (dst, src) are edges in the Graph. If these hold true, then it is a negative edge."
      ]
    },
    {
      "cell_type": "code",
      "metadata": {
        "id": "9N8VT1f8-IJ8",
        "colab": {
          "base_uri": "https://localhost:8080/"
        },
        "outputId": "a1631f44-5b1e-43c6-a79b-c9fe07dcd560"
      },
      "source": [
        "import random\n",
        "\n",
        "def sample_negative_edges(G, num_neg_samples):\n",
        "  # TODO: Implement the function that returns a list of negative edges.\n",
        "  # The number of sampled negative edges is num_neg_samples. You do not\n",
        "  # need to consider the corner case when the number of possible negative edges\n",
        "  # is less than num_neg_samples. It should be ok as long as your implementation\n",
        "  # works on the karate club network. In this implementation, self loops should\n",
        "  # not be considered as either a positive or negative edge. Also, notice that\n",
        "  # the karate club network is an undirected graph, if (0, 1) is a positive\n",
        "  # edge, do you think (1, 0) can be a negative one?\n",
        "\n",
        "  neg_edge_list = []\n",
        "\n",
        "  ############# Your code here ############\n",
        "  pos_edge_list = graph_to_edge_list(G)\n",
        "  for node1 in G.nodes():\n",
        "      for node2 in G.nodes():\n",
        "          if node1 >= node2:\n",
        "              continue\n",
        "          if (node1, node2) in pos_edge_list:\n",
        "              continue\n",
        "          neg_edge_list.append((node1, node2))\n",
        "  neg_edge_list = random.sample(neg_edge_list, num_neg_samples)\n",
        "  #########################################\n",
        "\n",
        "  return neg_edge_list\n",
        "\n",
        "# Sample 78 negative edges\n",
        "neg_edge_list = sample_negative_edges(G, len(pos_edge_list))\n",
        "\n",
        "# Transform the negative edge list to tensor\n",
        "neg_edge_index = edge_list_to_tensor(neg_edge_list)\n",
        "print(\"The neg_edge_index tensor has shape {}\".format(neg_edge_index.shape))\n",
        "\n",
        "# Which of following edges can be negative ones?\n",
        "edge_1 = (7, 1)\n",
        "edge_2 = (1, 33)\n",
        "edge_3 = (33, 22)\n",
        "edge_4 = (0, 4)\n",
        "edge_5 = (4, 2)\n",
        "\n",
        "############# Your code here ############\n",
        "## Note:\n",
        "## 1: For each of the 5 edges, print whether it can be negative edge\n",
        "\n",
        "#########################################"
      ],
      "execution_count": 53,
      "outputs": [
        {
          "output_type": "stream",
          "name": "stdout",
          "text": [
            "The neg_edge_index tensor has shape torch.Size([2, 78])\n"
          ]
        }
      ]
    },
    {
      "cell_type": "markdown",
      "metadata": {
        "id": "Wk9Q-a-9qGsw"
      },
      "source": [
        "# 3 Node Emebedding Learning\n",
        "\n",
        "Finally, we will finish the first learning algorithm on graphs: a node embedding model.\n"
      ]
    },
    {
      "cell_type": "markdown",
      "metadata": {
        "id": "NDBxRQcZ_dUH"
      },
      "source": [
        "## Setup"
      ]
    },
    {
      "cell_type": "code",
      "metadata": {
        "id": "Lnqn9H6s_ehX",
        "colab": {
          "base_uri": "https://localhost:8080/"
        },
        "outputId": "0e7e4d1b-ea88-48d4-cf88-30fc388edd09"
      },
      "source": [
        "import torch\n",
        "import torch.nn as nn\n",
        "import matplotlib.pyplot as plt\n",
        "from sklearn.decomposition import PCA\n",
        "\n",
        "print(torch.__version__)"
      ],
      "execution_count": 44,
      "outputs": [
        {
          "output_type": "stream",
          "name": "stdout",
          "text": [
            "2.3.1+cu121\n"
          ]
        }
      ]
    },
    {
      "cell_type": "markdown",
      "metadata": {
        "id": "6gomAf8vxq0R"
      },
      "source": [
        "To write our own node embedding learning methods, we'll heavily use the [`nn.Embedding`](https://pytorch.org/docs/stable/generated/torch.nn.Embedding.html) module in PyTorch. Let's see how to use `nn.Embedding`:"
      ]
    },
    {
      "cell_type": "code",
      "metadata": {
        "id": "aRiWGuLAx5yx",
        "colab": {
          "base_uri": "https://localhost:8080/"
        },
        "outputId": "43bf88a9-ffe4-4e51-8e56-31bc9d4a4caa"
      },
      "source": [
        "# Initialize an embedding layer\n",
        "# Suppose we want to have embedding for 4 items (e.g., nodes)\n",
        "# Each item is represented with 8 dimensional vector\n",
        "\n",
        "emb_sample = nn.Embedding(num_embeddings=4, embedding_dim=8)\n",
        "print('Sample embedding layer: {}'.format(emb_sample))"
      ],
      "execution_count": 45,
      "outputs": [
        {
          "output_type": "stream",
          "name": "stdout",
          "text": [
            "Sample embedding layer: Embedding(4, 8)\n"
          ]
        }
      ]
    },
    {
      "cell_type": "markdown",
      "metadata": {
        "id": "bS9qQfeujEVh"
      },
      "source": [
        "We can select items from the embedding matrix, by using Tensor indices"
      ]
    },
    {
      "cell_type": "code",
      "metadata": {
        "id": "9AGIfP4QEDr8",
        "colab": {
          "base_uri": "https://localhost:8080/"
        },
        "outputId": "75034af7-a63d-4b53-c268-120eea07afb7"
      },
      "source": [
        "# Select an embedding in emb_sample\n",
        "id = torch.LongTensor([1])\n",
        "print(emb_sample(id))\n",
        "\n",
        "# Select multiple embeddings\n",
        "ids = torch.LongTensor([1, 3])\n",
        "print(emb_sample(ids))\n",
        "\n",
        "# Get the shape of the embedding weight matrix\n",
        "shape = emb_sample.weight.data.shape\n",
        "print(shape)\n",
        "\n",
        "# Overwrite the weight to tensor with all ones\n",
        "emb_sample.weight.data = torch.ones(shape)\n",
        "\n",
        "# Let's check if the emb is indeed initilized\n",
        "ids = torch.LongTensor([0, 3])\n",
        "print(emb_sample(ids))"
      ],
      "execution_count": 47,
      "outputs": [
        {
          "output_type": "stream",
          "name": "stdout",
          "text": [
            "tensor([[1., 1., 1., 1., 1., 1., 1., 1.]], grad_fn=<EmbeddingBackward0>)\n",
            "tensor([[1., 1., 1., 1., 1., 1., 1., 1.],\n",
            "        [1., 1., 1., 1., 1., 1., 1., 1.]], grad_fn=<EmbeddingBackward0>)\n",
            "torch.Size([4, 8])\n",
            "tensor([[1., 1., 1., 1., 1., 1., 1., 1.],\n",
            "        [1., 1., 1., 1., 1., 1., 1., 1.]], grad_fn=<EmbeddingBackward0>)\n"
          ]
        }
      ]
    },
    {
      "cell_type": "markdown",
      "metadata": {
        "id": "8MjBuDKaKIsM"
      },
      "source": [
        "Now, it's your time to create node embedding matrix for the graph we have!\n",
        "- We want to have **16 dimensional** vector for each node in the karate club network.\n",
        "- We want to initalize the matrix under **uniform distribution**, in the range of $[0, 1)$. We suggest you using [`torch.rand`](https://pytorch.org/docs/stable/generated/torch.rand.html)."
      ]
    },
    {
      "cell_type": "code",
      "metadata": {
        "id": "hMszSwRPKGn1",
        "colab": {
          "base_uri": "https://localhost:8080/"
        },
        "outputId": "0a09ce81-8446-480e-f002-6701ea49f350"
      },
      "source": [
        "# Please do not change / reset the random seed\n",
        "torch.manual_seed(1)\n",
        "\n",
        "def create_node_emb(num_node=34, embedding_dim=16):\n",
        "  # TODO: Implement this function that will create the node embedding matrix.\n",
        "  # A torch.nn.Embedding layer will be returned. You do not need to change\n",
        "  # the values of num_node and embedding_dim. The weight matrix of returned\n",
        "  # layer should be initialized under uniform distribution.\n",
        "\n",
        "  emb = None\n",
        "\n",
        "  ############# Your code here ############\n",
        "  emb = nn.Embedding(num_embeddings=num_nodes, embedding_dim=embedding_dim)\n",
        "  shape = emb.weight.data.shape\n",
        "  emb.weight.data = torch.rand(shape)\n",
        "  print(shape)\n",
        "\n",
        "  #########################################\n",
        "\n",
        "  return emb\n",
        "\n",
        "emb = create_node_emb()\n",
        "ids = torch.LongTensor([0, 3])\n",
        "\n",
        "# Print the embedding layer\n",
        "print(\"Embedding: {}\".format(emb))\n",
        "\n",
        "# An example that gets the embeddings for node 0 and 3\n",
        "print(emb(ids))"
      ],
      "execution_count": 50,
      "outputs": [
        {
          "output_type": "stream",
          "name": "stdout",
          "text": [
            "torch.Size([34, 16])\n",
            "Embedding: Embedding(34, 16)\n",
            "tensor([[0.2114, 0.7335, 0.1433, 0.9647, 0.2933, 0.7951, 0.5170, 0.2801, 0.8339,\n",
            "         0.1185, 0.2355, 0.5599, 0.8966, 0.2858, 0.1955, 0.1808],\n",
            "        [0.7486, 0.6546, 0.3843, 0.9820, 0.6012, 0.3710, 0.4929, 0.9915, 0.8358,\n",
            "         0.4629, 0.9902, 0.7196, 0.2338, 0.0450, 0.7906, 0.9689]],\n",
            "       grad_fn=<EmbeddingBackward0>)\n"
          ]
        }
      ]
    },
    {
      "cell_type": "markdown",
      "metadata": {
        "id": "4QfoANibTzyh"
      },
      "source": [
        "## Visualize the initial node embeddings\n",
        "One good way to understand an embedding matrix, is to visualize it in a 2D space.\n",
        "Here, we have implemented an embedding visualization function for you.\n",
        "We first do PCA to reduce the dimensionality of embeddings to a 2D space.\n",
        "Then we visualize each point, colored by the community it belongs to."
      ]
    },
    {
      "cell_type": "code",
      "metadata": {
        "id": "_LCoIkarhfYD",
        "colab": {
          "base_uri": "https://localhost:8080/",
          "height": 522
        },
        "outputId": "c7c82df9-7e9e-4a37-f103-6dd006dadb72"
      },
      "source": [
        "def visualize_emb(emb):\n",
        "  X = emb.weight.data.numpy()\n",
        "  pca = PCA(n_components=2)\n",
        "  components = pca.fit_transform(X)\n",
        "  plt.figure(figsize=(6, 6))\n",
        "  club1_x = []\n",
        "  club1_y = []\n",
        "  club2_x = []\n",
        "  club2_y = []\n",
        "  for node in G.nodes(data=True):\n",
        "    if node[1]['club'] == 'Mr. Hi':\n",
        "      club1_x.append(components[node[0]][0])\n",
        "      club1_y.append(components[node[0]][1])\n",
        "    else:\n",
        "      club2_x.append(components[node[0]][0])\n",
        "      club2_y.append(components[node[0]][1])\n",
        "  plt.scatter(club1_x, club1_y, color=\"red\", label=\"Mr. Hi\")\n",
        "  plt.scatter(club2_x, club2_y, color=\"blue\", label=\"Officer\")\n",
        "  plt.legend()\n",
        "  plt.show()\n",
        "\n",
        "# Visualize the initial random embeddding\n",
        "visualize_emb(emb)"
      ],
      "execution_count": 51,
      "outputs": [
        {
          "output_type": "display_data",
          "data": {
            "text/plain": [
              "<Figure size 600x600 with 1 Axes>"
            ],
            "image/png": "[encoded data removed]"
          },
          "metadata": {}
        }
      ]
    },
    {
      "cell_type": "markdown",
      "metadata": {
        "id": "bQIyuEz9ANb2"
      },
      "source": [
        "## Question 7: Training the embedding! What is the best performance you can get? Please report both the best loss and accuracy on Gradescope. (20 Points)\n",
        "\n",
        "We want to optimize our embeddings for the task of classifying edges as positive or negative. Given an edge and the embeddings for each node, the dot product of the embeddings, followed by a sigmoid, should give us the likelihood of that edge being either positive (output of sigmoid > 0.5) or negative (output of sigmoid < 0.5).\n",
        "\n",
        "Note that we're using the functions you wrote in the previous questions, _as well as the variables initialized in previous cells_. If you're running into issues, make sure your answers to questions 1-6 are correct."
      ]
    },
    {
      "cell_type": "code",
      "metadata": {
        "id": "RDeQTNNxqH0j",
        "colab": {
          "base_uri": "https://localhost:8080/"
        },
        "outputId": "62207f07-6fd5-499f-eedf-cfa212917496"
      },
      "source": [
        "from torch.optim import SGD\n",
        "import torch.nn as nn\n",
        "\n",
        "def accuracy(pred, label):\n",
        "  # TODO: Implement the accuracy function. This function takes the\n",
        "  # pred tensor (the resulting tensor after sigmoid) and the label\n",
        "  # tensor (torch.LongTensor). Predicted value greater than 0.5 will\n",
        "  # be classified as label 1. Else it will be classified as label 0.\n",
        "  # The returned accuracy should be rounded to 4 decimal places.\n",
        "  # For example, accuracy 0.82956 will be rounded to 0.8296.\n",
        "\n",
        "  accu = 0.0\n",
        "\n",
        "  ############# Your code here ############\n",
        "  # total_correct = torch.sum(pred == label) #.sum().item()\n",
        "  # total_samples = label.size(0)\n",
        "  # accu = total_correct / total_samples\n",
        "  # accu = torch.round(accu, 4)\n",
        "  accu = torch.sum(torch.round(pred) == label) / pred.shape[0]\n",
        "  #########################################\n",
        "\n",
        "  return accu\n",
        "\n",
        "def train(emb, loss_fn, sigmoid, train_label, train_edge):\n",
        "  # TODO: Train the embedding layer here. You can also change epochs and\n",
        "  # learning rate. In general, you need to implement:\n",
        "  # (1) Get the embeddings of the nodes in train_edge\n",
        "  # (2) Dot product the embeddings between each node pair\n",
        "  # (3) Feed the dot product result into sigmoid\n",
        "  # (4) Feed the sigmoid output into the loss_fn\n",
        "  # (5) Print both loss and accuracy of each epoch\n",
        "  # (6) Update the embeddings using the loss and optimizer\n",
        "  # (as a sanity check, the loss should decrease during training)\n",
        "\n",
        "  epochs = 500\n",
        "  learning_rate = 0.1\n",
        "\n",
        "  optimizer = SGD(emb.parameters(), lr=learning_rate, momentum=0.9)\n",
        "\n",
        "  for i in range(epochs):\n",
        "\n",
        "    ############# Your code here ############\n",
        "    optimizer.zero_grad()\n",
        "    node_emb = emb(train_edge)\n",
        "    # print(node_emb[0])\n",
        "    dot_product = torch.sum(node_emb[0] * node_emb[1], -1)\n",
        "    result = sigmoid(dot_product)\n",
        "    loss = loss_fn(result, train_label)\n",
        "    print(\"Epoch:\", i, \"Loss:\", loss.item(),\n",
        "          \"Acc:\", accuracy(result, train_label).item())\n",
        "    loss.backward()\n",
        "    optimizer.step()\n",
        "    #########################################\n",
        "\n",
        "loss_fn = nn.BCELoss()\n",
        "sigmoid = nn.Sigmoid()\n",
        "\n",
        "print(pos_edge_index.shape)\n",
        "\n",
        "# Generate the positive and negative labels\n",
        "pos_label = torch.ones(pos_edge_index.shape[1], )\n",
        "neg_label = torch.zeros(neg_edge_index.shape[1], )\n",
        "\n",
        "# Concat positive and negative labels into one tensor\n",
        "train_label = torch.cat([pos_label, neg_label], dim=0)\n",
        "\n",
        "# Concat positive and negative edges into one tensor\n",
        "# Since the network is very small, we do not split the edges into val/test sets\n",
        "train_edge = torch.cat([pos_edge_index, neg_edge_index], dim=1)\n",
        "print(train_edge.shape)\n",
        "\n",
        "train(emb, loss_fn, sigmoid, train_label, train_edge)"
      ],
      "execution_count": 61,
      "outputs": [
        {
          "output_type": "stream",
          "name": "stdout",
          "text": [
            "torch.Size([2, 78])\n",
            "torch.Size([2, 156])\n",
            "Epoch: 0 Loss: 0.006691099610179663 Acc: 1.0\n",
            "Epoch: 1 Loss: 0.006690113339573145 Acc: 1.0\n",
            "Epoch: 2 Loss: 0.006688237190246582 Acc: 1.0\n",
            "Epoch: 3 Loss: 0.006685575004667044 Acc: 1.0\n",
            "Epoch: 4 Loss: 0.006682189647108316 Acc: 1.0\n",
            "Epoch: 5 Loss: 0.006678170990198851 Acc: 1.0\n",
            "Epoch: 6 Loss: 0.006673566997051239 Acc: 1.0\n",
            "Epoch: 7 Loss: 0.006668449845165014 Acc: 1.0\n",
            "Epoch: 8 Loss: 0.006662867031991482 Acc: 1.0\n",
            "Epoch: 9 Loss: 0.00665687071159482 Acc: 1.0\n",
            "Epoch: 10 Loss: 0.00665050046518445 Acc: 1.0\n",
            "Epoch: 11 Loss: 0.006643805652856827 Acc: 1.0\n",
            "Epoch: 12 Loss: 0.0066368067637085915 Acc: 1.0\n",
            "Epoch: 13 Loss: 0.006629548966884613 Acc: 1.0\n",
            "Epoch: 14 Loss: 0.006622050888836384 Acc: 1.0\n",
            "Epoch: 15 Loss: 0.006614345591515303 Acc: 1.0\n",
            "Epoch: 16 Loss: 0.006606452167034149 Acc: 1.0\n",
            "Epoch: 17 Loss: 0.006598398555070162 Acc: 1.0\n",
            "Epoch: 18 Loss: 0.006590192671865225 Acc: 1.0\n",
            "Epoch: 19 Loss: 0.006581861060112715 Acc: 1.0\n",
            "Epoch: 20 Loss: 0.006573407910764217 Acc: 1.0\n",
            "Epoch: 21 Loss: 0.006564867217093706 Acc: 1.0\n",
            "Epoch: 22 Loss: 0.00655623571947217 Acc: 1.0\n",
            "Epoch: 23 Loss: 0.006547521334141493 Acc: 1.0\n",
            "Epoch: 24 Loss: 0.006538744084537029 Acc: 1.0\n",
            "Epoch: 25 Loss: 0.0065299104899168015 Acc: 1.0\n",
            "Epoch: 26 Loss: 0.006521026138216257 Acc: 1.0\n",
            "Epoch: 27 Loss: 0.006512104067951441 Acc: 1.0\n",
            "Epoch: 28 Loss: 0.006503143347799778 Acc: 1.0\n",
            "Epoch: 29 Loss: 0.006494150497019291 Acc: 1.0\n",
            "Epoch: 30 Loss: 0.006485139485448599 Acc: 1.0\n",
            "Epoch: 31 Loss: 0.006476100999861956 Acc: 1.0\n",
            "Epoch: 32 Loss: 0.0064670550636947155 Acc: 1.0\n",
            "Epoch: 33 Loss: 0.006457998882979155 Acc: 1.0\n",
            "Epoch: 34 Loss: 0.006448929198086262 Acc: 1.0\n",
            "Epoch: 35 Loss: 0.006439857184886932 Acc: 1.0\n",
            "Epoch: 36 Loss: 0.006430780980736017 Acc: 1.0\n",
            "Epoch: 37 Loss: 0.0064217159524559975 Acc: 1.0\n",
            "Epoch: 38 Loss: 0.006412644404917955 Acc: 1.0\n",
            "Epoch: 39 Loss: 0.006403584033250809 Acc: 1.0\n",
            "Epoch: 40 Loss: 0.006394525524228811 Acc: 1.0\n",
            "Epoch: 41 Loss: 0.006385474465787411 Acc: 1.0\n",
            "Epoch: 42 Loss: 0.006376438308507204 Acc: 1.0\n",
            "Epoch: 43 Loss: 0.006367407739162445 Acc: 1.0\n",
            "Epoch: 44 Loss: 0.006358388811349869 Acc: 1.0\n",
            "Epoch: 45 Loss: 0.006349389906972647 Acc: 1.0\n",
            "Epoch: 46 Loss: 0.006340398918837309 Acc: 1.0\n",
            "Epoch: 47 Loss: 0.006331431679427624 Acc: 1.0\n",
            "Epoch: 48 Loss: 0.006322474684566259 Acc: 1.0\n",
            "Epoch: 49 Loss: 0.006313534919172525 Acc: 1.0\n",
            "Epoch: 50 Loss: 0.0063046058639883995 Acc: 1.0\n",
            "Epoch: 51 Loss: 0.00629570335149765 Acc: 1.0\n",
            "Epoch: 52 Loss: 0.006286815274506807 Acc: 1.0\n",
            "Epoch: 53 Loss: 0.0062779453583061695 Acc: 1.0\n",
            "Epoch: 54 Loss: 0.006269095931202173 Acc: 1.0\n",
            "Epoch: 55 Loss: 0.00626026839017868 Acc: 1.0\n",
            "Epoch: 56 Loss: 0.006251452956348658 Acc: 1.0\n",
            "Epoch: 57 Loss: 0.006242662668228149 Acc: 1.0\n",
            "Epoch: 58 Loss: 0.006233890540897846 Acc: 1.0\n",
            "Epoch: 59 Loss: 0.00622513797134161 Acc: 1.0\n",
            "Epoch: 60 Loss: 0.006216403096914291 Acc: 1.0\n",
            "Epoch: 61 Loss: 0.006207694765180349 Acc: 1.0\n",
            "Epoch: 62 Loss: 0.00619900319725275 Acc: 1.0\n",
            "Epoch: 63 Loss: 0.006190329324454069 Acc: 1.0\n",
            "Epoch: 64 Loss: 0.00618168106302619 Acc: 1.0\n",
            "Epoch: 65 Loss: 0.006173049099743366 Acc: 1.0\n",
            "Epoch: 66 Loss: 0.0061644394882023335 Acc: 1.0\n",
            "Epoch: 67 Loss: 0.006155851762741804 Acc: 1.0\n",
            "Epoch: 68 Loss: 0.006147285457700491 Acc: 1.0\n",
            "Epoch: 69 Loss: 0.006138735916465521 Acc: 1.0\n",
            "Epoch: 70 Loss: 0.006130209192633629 Acc: 1.0\n",
            "Epoch: 71 Loss: 0.006121701095253229 Acc: 1.0\n",
            "Epoch: 72 Loss: 0.0061132172122597694 Acc: 1.0\n",
            "Epoch: 73 Loss: 0.006104751955717802 Acc: 1.0\n",
            "Epoch: 74 Loss: 0.006096308585256338 Acc: 1.0\n",
            "Epoch: 75 Loss: 0.006087886169552803 Acc: 1.0\n",
            "Epoch: 76 Loss: 0.006079483311623335 Acc: 1.0\n",
            "Epoch: 77 Loss: 0.006071099080145359 Acc: 1.0\n",
            "Epoch: 78 Loss: 0.006062738131731749 Acc: 1.0\n",
            "Epoch: 79 Loss: 0.006054400000721216 Acc: 1.0\n",
            "Epoch: 80 Loss: 0.00604607118293643 Acc: 1.0\n",
            "Epoch: 81 Loss: 0.006037775427103043 Acc: 1.0\n",
            "Epoch: 82 Loss: 0.006029487121850252 Acc: 1.0\n",
            "Epoch: 83 Loss: 0.006021229550242424 Acc: 1.0\n",
            "Epoch: 84 Loss: 0.006012988276779652 Acc: 1.0\n",
            "Epoch: 85 Loss: 0.0060047730803489685 Acc: 1.0\n",
            "Epoch: 86 Loss: 0.005996575113385916 Acc: 1.0\n",
            "Epoch: 87 Loss: 0.00598838971927762 Acc: 1.0\n",
            "Epoch: 88 Loss: 0.005980232730507851 Acc: 1.0\n",
            "Epoch: 89 Loss: 0.005972090642899275 Acc: 1.0\n",
            "Epoch: 90 Loss: 0.005963973235338926 Acc: 1.0\n",
            "Epoch: 91 Loss: 0.005955868866294622 Acc: 1.0\n",
            "Epoch: 92 Loss: 0.0059477887116372585 Acc: 1.0\n",
            "Epoch: 93 Loss: 0.005939727649092674 Acc: 1.0\n",
            "Epoch: 94 Loss: 0.005931688006967306 Acc: 1.0\n",
            "Epoch: 95 Loss: 0.00592366186901927 Acc: 1.0\n",
            "Epoch: 96 Loss: 0.005915659945458174 Acc: 1.0\n",
            "Epoch: 97 Loss: 0.005907677114009857 Acc: 1.0\n",
            "Epoch: 98 Loss: 0.0058997152373194695 Acc: 1.0\n",
            "Epoch: 99 Loss: 0.005891773849725723 Acc: 1.0\n",
            "Epoch: 100 Loss: 0.005883845034986734 Acc: 1.0\n",
            "Epoch: 101 Loss: 0.005875942762941122 Acc: 1.0\n",
            "Epoch: 102 Loss: 0.005868049338459969 Acc: 1.0\n",
            "Epoch: 103 Loss: 0.005860182456672192 Acc: 1.0\n",
            "Epoch: 104 Loss: 0.0058523365296423435 Acc: 1.0\n",
            "Epoch: 105 Loss: 0.005844505038112402 Acc: 1.0\n",
            "Epoch: 106 Loss: 0.0058366949670016766 Acc: 1.0\n",
            "Epoch: 107 Loss: 0.0058288974687457085 Acc: 1.0\n",
            "Epoch: 108 Loss: 0.005821130238473415 Acc: 1.0\n",
            "Epoch: 109 Loss: 0.005813374649733305 Acc: 1.0\n",
            "Epoch: 110 Loss: 0.005805636290460825 Acc: 1.0\n",
            "Epoch: 111 Loss: 0.005797922145575285 Acc: 1.0\n",
            "Epoch: 112 Loss: 0.005790219642221928 Acc: 1.0\n",
            "Epoch: 113 Loss: 0.005782535299658775 Acc: 1.0\n",
            "Epoch: 114 Loss: 0.005774877034127712 Acc: 1.0\n",
            "Epoch: 115 Loss: 0.005767232272773981 Acc: 1.0\n",
            "Epoch: 116 Loss: 0.0057596019469201565 Acc: 1.0\n",
            "Epoch: 117 Loss: 0.005751996301114559 Acc: 1.0\n",
            "Epoch: 118 Loss: 0.005744407419115305 Acc: 1.0\n",
            "Epoch: 119 Loss: 0.00573683762922883 Acc: 1.0\n",
            "Epoch: 120 Loss: 0.005729280412197113 Acc: 1.0\n",
            "Epoch: 121 Loss: 0.005721742287278175 Acc: 1.0\n",
            "Epoch: 122 Loss: 0.005714226979762316 Acc: 1.0\n",
            "Epoch: 123 Loss: 0.00570672657340765 Acc: 1.0\n",
            "Epoch: 124 Loss: 0.005699241999536753 Acc: 1.0\n",
            "Epoch: 125 Loss: 0.005691776052117348 Acc: 1.0\n",
            "Epoch: 126 Loss: 0.005684328731149435 Acc: 1.0\n",
            "Epoch: 127 Loss: 0.005676901899278164 Acc: 1.0\n",
            "Epoch: 128 Loss: 0.005669490899890661 Acc: 1.0\n",
            "Epoch: 129 Loss: 0.005662094336003065 Acc: 1.0\n",
            "Epoch: 130 Loss: 0.005654717329889536 Acc: 1.0\n",
            "Epoch: 131 Loss: 0.005647351965308189 Acc: 1.0\n",
            "Epoch: 132 Loss: 0.005640009883791208 Acc: 1.0\n",
            "Epoch: 133 Loss: 0.005632687825709581 Acc: 1.0\n",
            "Epoch: 134 Loss: 0.00562538206577301 Acc: 1.0\n",
            "Epoch: 135 Loss: 0.00561808655038476 Acc: 1.0\n",
            "Epoch: 136 Loss: 0.005610807798802853 Acc: 1.0\n",
            "Epoch: 137 Loss: 0.005603553261607885 Acc: 1.0\n",
            "Epoch: 138 Loss: 0.0055963085032999516 Acc: 1.0\n",
            "Epoch: 139 Loss: 0.005589087959378958 Acc: 1.0\n",
            "Epoch: 140 Loss: 0.005581880919635296 Acc: 1.0\n",
            "Epoch: 141 Loss: 0.005574686452746391 Acc: 1.0\n",
            "Epoch: 142 Loss: 0.005567513406276703 Acc: 1.0\n",
            "Epoch: 143 Loss: 0.0055603571236133575 Acc: 1.0\n",
            "Epoch: 144 Loss: 0.005553216673433781 Acc: 1.0\n",
            "Epoch: 145 Loss: 0.005546092055737972 Acc: 1.0\n",
            "Epoch: 146 Loss: 0.005538982339203358 Acc: 1.0\n",
            "Epoch: 147 Loss: 0.00553189218044281 Acc: 1.0\n",
            "Epoch: 148 Loss: 0.005524820182472467 Acc: 1.0\n",
            "Epoch: 149 Loss: 0.005517761223018169 Acc: 1.0\n",
            "Epoch: 150 Loss: 0.005510716699063778 Acc: 1.0\n",
            "Epoch: 151 Loss: 0.005503695458173752 Acc: 1.0\n",
            "Epoch: 152 Loss: 0.0054966844618320465 Acc: 1.0\n",
            "Epoch: 153 Loss: 0.005489688832312822 Acc: 1.0\n",
            "Epoch: 154 Loss: 0.005482709500938654 Acc: 1.0\n",
            "Epoch: 155 Loss: 0.005475751124322414 Acc: 1.0\n",
            "Epoch: 156 Loss: 0.005468802060931921 Acc: 1.0\n",
            "Epoch: 157 Loss: 0.005461875349283218 Acc: 1.0\n",
            "Epoch: 158 Loss: 0.005454962141811848 Acc: 1.0\n",
            "Epoch: 159 Loss: 0.005448064301162958 Acc: 1.0\n",
            "Epoch: 160 Loss: 0.005441179499030113 Acc: 1.0\n",
            "Epoch: 161 Loss: 0.005434311926364899 Acc: 1.0\n",
            "Epoch: 162 Loss: 0.00542746065184474 Acc: 1.0\n",
            "Epoch: 163 Loss: 0.005420624744147062 Acc: 1.0\n",
            "Epoch: 164 Loss: 0.005413801409304142 Acc: 1.0\n",
            "Epoch: 165 Loss: 0.005406997166574001 Acc: 1.0\n",
            "Epoch: 166 Loss: 0.005400211084634066 Acc: 1.0\n",
            "Epoch: 167 Loss: 0.0053934394381940365 Acc: 1.0\n",
            "Epoch: 168 Loss: 0.005386676639318466 Acc: 1.0\n",
            "Epoch: 169 Loss: 0.005379934329539537 Acc: 1.0\n",
            "Epoch: 170 Loss: 0.005373205058276653 Acc: 1.0\n",
            "Epoch: 171 Loss: 0.005366496741771698 Acc: 1.0\n",
            "Epoch: 172 Loss: 0.005359796807169914 Acc: 1.0\n",
            "Epoch: 173 Loss: 0.005353107117116451 Acc: 1.0\n",
            "Epoch: 174 Loss: 0.005346439778804779 Acc: 1.0\n",
            "Epoch: 175 Loss: 0.005339787341654301 Acc: 1.0\n",
            "Epoch: 176 Loss: 0.0053331563249230385 Acc: 1.0\n",
            "Epoch: 177 Loss: 0.005326529964804649 Acc: 1.0\n",
            "Epoch: 178 Loss: 0.005319920834153891 Acc: 1.0\n",
            "Epoch: 179 Loss: 0.005313326139003038 Acc: 1.0\n",
            "Epoch: 180 Loss: 0.005306752398610115 Acc: 1.0\n",
            "Epoch: 181 Loss: 0.005300183780491352 Acc: 1.0\n",
            "Epoch: 182 Loss: 0.005293636582791805 Acc: 1.0\n",
            "Epoch: 183 Loss: 0.005287102423608303 Acc: 1.0\n",
            "Epoch: 184 Loss: 0.005280578974634409 Acc: 1.0\n",
            "Epoch: 185 Loss: 0.0052740732207894325 Acc: 1.0\n",
            "Epoch: 186 Loss: 0.005267582833766937 Acc: 1.0\n",
            "Epoch: 187 Loss: 0.00526110315695405 Acc: 1.0\n",
            "Epoch: 188 Loss: 0.005254641640931368 Acc: 1.0\n",
            "Epoch: 189 Loss: 0.005248195491731167 Acc: 1.0\n",
            "Epoch: 190 Loss: 0.005241760052740574 Acc: 1.0\n",
            "Epoch: 191 Loss: 0.005235340911895037 Acc: 1.0\n",
            "Epoch: 192 Loss: 0.005228934343904257 Acc: 1.0\n",
            "Epoch: 193 Loss: 0.00522254453971982 Acc: 1.0\n",
            "Epoch: 194 Loss: 0.005216171499341726 Acc: 1.0\n",
            "Epoch: 195 Loss: 0.005209804978221655 Acc: 1.0\n",
            "Epoch: 196 Loss: 0.005203453823924065 Acc: 1.0\n",
            "Epoch: 197 Loss: 0.005197114776819944 Acc: 1.0\n",
            "Epoch: 198 Loss: 0.005190797615796328 Acc: 1.0\n",
            "Epoch: 199 Loss: 0.005184488371014595 Acc: 1.0\n",
            "Epoch: 200 Loss: 0.005178193096071482 Acc: 1.0\n",
            "Epoch: 201 Loss: 0.005171917378902435 Acc: 1.0\n",
            "Epoch: 202 Loss: 0.005165649112313986 Acc: 1.0\n",
            "Epoch: 203 Loss: 0.005159396678209305 Acc: 1.0\n",
            "Epoch: 204 Loss: 0.005153160076588392 Acc: 1.0\n",
            "Epoch: 205 Loss: 0.005146934650838375 Acc: 1.0\n",
            "Epoch: 206 Loss: 0.005140726454555988 Acc: 1.0\n",
            "Epoch: 207 Loss: 0.0051345219835639 Acc: 1.0\n",
            "Epoch: 208 Loss: 0.005128342658281326 Acc: 1.0\n",
            "Epoch: 209 Loss: 0.005122171714901924 Acc: 1.0\n",
            "Epoch: 210 Loss: 0.00511601148173213 Acc: 1.0\n",
            "Epoch: 211 Loss: 0.005109867081046104 Acc: 1.0\n",
            "Epoch: 212 Loss: 0.0051037343218922615 Acc: 1.0\n",
            "Epoch: 213 Loss: 0.0050976169295609 Acc: 1.0\n",
            "Epoch: 214 Loss: 0.005091517232358456 Acc: 1.0\n",
            "Epoch: 215 Loss: 0.005085422657430172 Acc: 1.0\n",
            "Epoch: 216 Loss: 0.005079341121017933 Acc: 1.0\n",
            "Epoch: 217 Loss: 0.0050732786767184734 Acc: 1.0\n",
            "Epoch: 218 Loss: 0.0050672260113060474 Acc: 1.0\n",
            "Epoch: 219 Loss: 0.005061186850070953 Acc: 1.0\n",
            "Epoch: 220 Loss: 0.005055160727351904 Acc: 1.0\n",
            "Epoch: 221 Loss: 0.005049149040132761 Acc: 1.0\n",
            "Epoch: 222 Loss: 0.0050431485287845135 Acc: 1.0\n",
            "Epoch: 223 Loss: 0.0050371624529361725 Acc: 1.0\n",
            "Epoch: 224 Loss: 0.005031186621636152 Acc: 1.0\n",
            "Epoch: 225 Loss: 0.005025227088481188 Acc: 1.0\n",
            "Epoch: 226 Loss: 0.0050192782655358315 Acc: 1.0\n",
            "Epoch: 227 Loss: 0.0050133392214775085 Acc: 1.0\n",
            "Epoch: 228 Loss: 0.005007417872548103 Acc: 1.0\n",
            "Epoch: 229 Loss: 0.005001508165150881 Acc: 1.0\n",
            "Epoch: 230 Loss: 0.004995610099285841 Acc: 1.0\n",
            "Epoch: 231 Loss: 0.004989721812307835 Acc: 1.0\n",
            "Epoch: 232 Loss: 0.004983850289136171 Acc: 1.0\n",
            "Epoch: 233 Loss: 0.004977992735803127 Acc: 1.0\n",
            "Epoch: 234 Loss: 0.004972144961357117 Acc: 1.0\n",
            "Epoch: 235 Loss: 0.004966304637491703 Acc: 1.0\n",
            "Epoch: 236 Loss: 0.004960478749126196 Acc: 1.0\n",
            "Epoch: 237 Loss: 0.004954671952873468 Acc: 1.0\n",
            "Epoch: 238 Loss: 0.004948869813233614 Acc: 1.0\n",
            "Epoch: 239 Loss: 0.00494308490306139 Acc: 1.0\n",
            "Epoch: 240 Loss: 0.004937311168760061 Acc: 1.0\n",
            "Epoch: 241 Loss: 0.004931549541652203 Acc: 1.0\n",
            "Epoch: 242 Loss: 0.00492579722777009 Acc: 1.0\n",
            "Epoch: 243 Loss: 0.004920063074678183 Acc: 1.0\n",
            "Epoch: 244 Loss: 0.00491433497518301 Acc: 1.0\n",
            "Epoch: 245 Loss: 0.004908619914203882 Acc: 1.0\n",
            "Epoch: 246 Loss: 0.0049029141664505005 Acc: 1.0\n",
            "Epoch: 247 Loss: 0.004897228442132473 Acc: 1.0\n",
            "Epoch: 248 Loss: 0.004891551565378904 Acc: 1.0\n",
            "Epoch: 249 Loss: 0.004885886795818806 Acc: 1.0\n",
            "Epoch: 250 Loss: 0.004880228545516729 Acc: 1.0\n",
            "Epoch: 251 Loss: 0.00487458985298872 Acc: 1.0\n",
            "Epoch: 252 Loss: 0.004868961870670319 Acc: 1.0\n",
            "Epoch: 253 Loss: 0.004863339941948652 Acc: 1.0\n",
            "Epoch: 254 Loss: 0.004857730586081743 Acc: 1.0\n",
            "Epoch: 255 Loss: 0.0048521338030695915 Acc: 1.0\n",
            "Epoch: 256 Loss: 0.0048465547151863575 Acc: 1.0\n",
            "Epoch: 257 Loss: 0.004840979818254709 Acc: 1.0\n",
            "Epoch: 258 Loss: 0.004835419822484255 Acc: 1.0\n",
            "Epoch: 259 Loss: 0.004829869139939547 Acc: 1.0\n",
            "Epoch: 260 Loss: 0.004824330564588308 Acc: 1.0\n",
            "Epoch: 261 Loss: 0.004818808753043413 Acc: 1.0\n",
            "Epoch: 262 Loss: 0.004813288804143667 Acc: 1.0\n",
            "Epoch: 263 Loss: 0.0048077888786792755 Acc: 1.0\n",
            "Epoch: 264 Loss: 0.004802295006811619 Acc: 1.0\n",
            "Epoch: 265 Loss: 0.004796814639121294 Acc: 1.0\n",
            "Epoch: 266 Loss: 0.0047913482412695885 Acc: 1.0\n",
            "Epoch: 267 Loss: 0.004785891156643629 Acc: 1.0\n",
            "Epoch: 268 Loss: 0.004780440591275692 Acc: 1.0\n",
            "Epoch: 269 Loss: 0.004775006324052811 Acc: 1.0\n",
            "Epoch: 270 Loss: 0.004769584164023399 Acc: 1.0\n",
            "Epoch: 271 Loss: 0.004764169920235872 Acc: 1.0\n",
            "Epoch: 272 Loss: 0.004758769180625677 Acc: 1.0\n",
            "Epoch: 273 Loss: 0.004753373097628355 Acc: 1.0\n",
            "Epoch: 274 Loss: 0.0047479961067438126 Acc: 1.0\n",
            "Epoch: 275 Loss: 0.004742627497762442 Acc: 1.0\n",
            "Epoch: 276 Loss: 0.004737266339361668 Acc: 1.0\n",
            "Epoch: 277 Loss: 0.0047319186851382256 Acc: 1.0\n",
            "Epoch: 278 Loss: 0.004726583603769541 Acc: 1.0\n",
            "Epoch: 279 Loss: 0.0047212583012878895 Acc: 1.0\n",
            "Epoch: 280 Loss: 0.004715946037322283 Acc: 1.0\n",
            "Epoch: 281 Loss: 0.004710642155259848 Acc: 1.0\n",
            "Epoch: 282 Loss: 0.004705349449068308 Acc: 1.0\n",
            "Epoch: 283 Loss: 0.004700068384408951 Acc: 1.0\n",
            "Epoch: 284 Loss: 0.004694794304668903 Acc: 1.0\n",
            "Epoch: 285 Loss: 0.004689529538154602 Acc: 1.0\n",
            "Epoch: 286 Loss: 0.004684288054704666 Acc: 1.0\n",
            "Epoch: 287 Loss: 0.004679046105593443 Acc: 1.0\n",
            "Epoch: 288 Loss: 0.004673818591982126 Acc: 1.0\n",
            "Epoch: 289 Loss: 0.004668601788580418 Acc: 1.0\n",
            "Epoch: 290 Loss: 0.004663391038775444 Acc: 1.0\n",
            "Epoch: 291 Loss: 0.004658190067857504 Acc: 1.0\n",
            "Epoch: 292 Loss: 0.004653007723391056 Acc: 1.0\n",
            "Epoch: 293 Loss: 0.004647832829505205 Acc: 1.0\n",
            "Epoch: 294 Loss: 0.004642666317522526 Acc: 1.0\n",
            "Epoch: 295 Loss: 0.004637511912733316 Acc: 1.0\n",
            "Epoch: 296 Loss: 0.004632364027202129 Acc: 1.0\n",
            "Epoch: 297 Loss: 0.004627228248864412 Acc: 1.0\n",
            "Epoch: 298 Loss: 0.004622104112058878 Acc: 1.0\n",
            "Epoch: 299 Loss: 0.004616991151124239 Acc: 1.0\n",
            "Epoch: 300 Loss: 0.004611884709447622 Acc: 1.0\n",
            "Epoch: 301 Loss: 0.004606790374964476 Acc: 1.0\n",
            "Epoch: 302 Loss: 0.004601708613336086 Acc: 1.0\n",
            "Epoch: 303 Loss: 0.0045966352336108685 Acc: 1.0\n",
            "Epoch: 304 Loss: 0.004591571632772684 Acc: 1.0\n",
            "Epoch: 305 Loss: 0.004586516879498959 Acc: 1.0\n",
            "Epoch: 306 Loss: 0.004581474233418703 Acc: 1.0\n",
            "Epoch: 307 Loss: 0.00457644322887063 Acc: 1.0\n",
            "Epoch: 308 Loss: 0.004571417812258005 Acc: 1.0\n",
            "Epoch: 309 Loss: 0.00456640962511301 Acc: 1.0\n",
            "Epoch: 310 Loss: 0.004561400040984154 Acc: 1.0\n",
            "Epoch: 311 Loss: 0.0045564076863229275 Acc: 1.0\n",
            "Epoch: 312 Loss: 0.004551425110548735 Acc: 1.0\n",
            "Epoch: 313 Loss: 0.004546451382339001 Acc: 1.0\n",
            "Epoch: 314 Loss: 0.0045414874330163 Acc: 1.0\n",
            "Epoch: 315 Loss: 0.004536534659564495 Acc: 1.0\n",
            "Epoch: 316 Loss: 0.004531587474048138 Acc: 1.0\n",
            "Epoch: 317 Loss: 0.00452665239572525 Acc: 1.0\n",
            "Epoch: 318 Loss: 0.0045217303559184074 Acc: 1.0\n",
            "Epoch: 319 Loss: 0.004516811575740576 Acc: 1.0\n",
            "Epoch: 320 Loss: 0.004511910956352949 Acc: 1.0\n",
            "Epoch: 321 Loss: 0.004507012665271759 Acc: 1.0\n",
            "Epoch: 322 Loss: 0.00450212974101305 Acc: 1.0\n",
            "Epoch: 323 Loss: 0.004497254267334938 Acc: 1.0\n",
            "Epoch: 324 Loss: 0.004492383915930986 Acc: 1.0\n",
            "Epoch: 325 Loss: 0.004487527534365654 Acc: 1.0\n",
            "Epoch: 326 Loss: 0.004482681397348642 Acc: 1.0\n",
            "Epoch: 327 Loss: 0.0044778380542993546 Acc: 1.0\n",
            "Epoch: 328 Loss: 0.004473009612411261 Acc: 1.0\n",
            "Epoch: 329 Loss: 0.004468191880732775 Acc: 1.0\n",
            "Epoch: 330 Loss: 0.004463382996618748 Acc: 1.0\n",
            "Epoch: 331 Loss: 0.0044585783034563065 Acc: 1.0\n",
            "Epoch: 332 Loss: 0.004453791305422783 Acc: 1.0\n",
            "Epoch: 333 Loss: 0.004449010360985994 Acc: 1.0\n",
            "Epoch: 334 Loss: 0.004444236401468515 Acc: 1.0\n",
            "Epoch: 335 Loss: 0.004439469892531633 Acc: 1.0\n",
            "Epoch: 336 Loss: 0.004434716887772083 Acc: 1.0\n",
            "Epoch: 337 Loss: 0.004429974127560854 Acc: 1.0\n",
            "Epoch: 338 Loss: 0.00442523043602705 Acc: 1.0\n",
            "Epoch: 339 Loss: 0.0044205100275576115 Acc: 1.0\n",
            "Epoch: 340 Loss: 0.004415793344378471 Acc: 1.0\n",
            "Epoch: 341 Loss: 0.0044110845774412155 Acc: 1.0\n",
            "Epoch: 342 Loss: 0.004406383726745844 Acc: 1.0\n",
            "Epoch: 343 Loss: 0.004401688929647207 Acc: 1.0\n",
            "Epoch: 344 Loss: 0.0043970076367259026 Acc: 1.0\n",
            "Epoch: 345 Loss: 0.004392338916659355 Acc: 1.0\n",
            "Epoch: 346 Loss: 0.004387679044157267 Acc: 1.0\n",
            "Epoch: 347 Loss: 0.004383026622235775 Acc: 1.0\n",
            "Epoch: 348 Loss: 0.004378376994282007 Acc: 1.0\n",
            "Epoch: 349 Loss: 0.004373743198812008 Acc: 1.0\n",
            "Epoch: 350 Loss: 0.004369111731648445 Acc: 1.0\n",
            "Epoch: 351 Loss: 0.004364491440355778 Acc: 1.0\n",
            "Epoch: 352 Loss: 0.0043598804622888565 Acc: 1.0\n",
            "Epoch: 353 Loss: 0.004355280194431543 Acc: 1.0\n",
            "Epoch: 354 Loss: 0.004350688774138689 Acc: 1.0\n",
            "Epoch: 355 Loss: 0.0043461075983941555 Acc: 1.0\n",
            "Epoch: 356 Loss: 0.004341529216617346 Acc: 1.0\n",
            "Epoch: 357 Loss: 0.004336961545050144 Acc: 1.0\n",
            "Epoch: 358 Loss: 0.004332409240305424 Acc: 1.0\n",
            "Epoch: 359 Loss: 0.004327853675931692 Acc: 1.0\n",
            "Epoch: 360 Loss: 0.004323320463299751 Acc: 1.0\n",
            "Epoch: 361 Loss: 0.004318791441619396 Acc: 1.0\n",
            "Epoch: 362 Loss: 0.00431426614522934 Acc: 1.0\n",
            "Epoch: 363 Loss: 0.004309750162065029 Acc: 1.0\n",
            "Epoch: 364 Loss: 0.004305246286094189 Acc: 1.0\n",
            "Epoch: 365 Loss: 0.004300746601074934 Acc: 1.0\n",
            "Epoch: 366 Loss: 0.0042962548322975636 Acc: 1.0\n",
            "Epoch: 367 Loss: 0.004291778430342674 Acc: 1.0\n",
            "Epoch: 368 Loss: 0.004287308547645807 Acc: 1.0\n",
            "Epoch: 369 Loss: 0.004282842390239239 Acc: 1.0\n",
            "Epoch: 370 Loss: 0.0042783902026712894 Acc: 1.0\n",
            "Epoch: 371 Loss: 0.004273944068700075 Acc: 1.0\n",
            "Epoch: 372 Loss: 0.0042694974690675735 Acc: 1.0\n",
            "Epoch: 373 Loss: 0.004265074618160725 Acc: 1.0\n",
            "Epoch: 374 Loss: 0.004260653164237738 Acc: 1.0\n",
            "Epoch: 375 Loss: 0.004256239626556635 Acc: 1.0\n",
            "Epoch: 376 Loss: 0.004251834936439991 Acc: 1.0\n",
            "Epoch: 377 Loss: 0.004247440490871668 Acc: 1.0\n",
            "Epoch: 378 Loss: 0.00424305209890008 Acc: 1.0\n",
            "Epoch: 379 Loss: 0.004238668829202652 Acc: 1.0\n",
            "Epoch: 380 Loss: 0.00423429673537612 Acc: 1.0\n",
            "Epoch: 381 Loss: 0.004229932092130184 Acc: 1.0\n",
            "Epoch: 382 Loss: 0.004225580021739006 Acc: 1.0\n",
            "Epoch: 383 Loss: 0.004221235401928425 Acc: 1.0\n",
            "Epoch: 384 Loss: 0.0042168921791017056 Acc: 1.0\n",
            "Epoch: 385 Loss: 0.004212560132145882 Acc: 1.0\n",
            "Epoch: 386 Loss: 0.004208236932754517 Acc: 1.0\n",
            "Epoch: 387 Loss: 0.00420392444357276 Acc: 1.0\n",
            "Epoch: 388 Loss: 0.004199618939310312 Acc: 1.0\n",
            "Epoch: 389 Loss: 0.004195315297693014 Acc: 1.0\n",
            "Epoch: 390 Loss: 0.00419102655723691 Acc: 1.0\n",
            "Epoch: 391 Loss: 0.004186741542071104 Acc: 1.0\n",
            "Epoch: 392 Loss: 0.004182468634098768 Acc: 1.0\n",
            "Epoch: 393 Loss: 0.004178199451416731 Acc: 1.0\n",
            "Epoch: 394 Loss: 0.004173938184976578 Acc: 1.0\n",
            "Epoch: 395 Loss: 0.004169681575149298 Acc: 1.0\n",
            "Epoch: 396 Loss: 0.004165446385741234 Acc: 1.0\n",
            "Epoch: 397 Loss: 0.004161207936704159 Acc: 1.0\n",
            "Epoch: 398 Loss: 0.004156975075602531 Acc: 1.0\n",
            "Epoch: 399 Loss: 0.004152756184339523 Acc: 1.0\n",
            "Epoch: 400 Loss: 0.004148546606302261 Acc: 1.0\n",
            "Epoch: 401 Loss: 0.004144344013184309 Acc: 1.0\n",
            "Epoch: 402 Loss: 0.004140140023082495 Acc: 1.0\n",
            "Epoch: 403 Loss: 0.004135957453399897 Acc: 1.0\n",
            "Epoch: 404 Loss: 0.004131773021072149 Acc: 1.0\n",
            "Epoch: 405 Loss: 0.00412759929895401 Acc: 1.0\n",
            "Epoch: 406 Loss: 0.004123434890061617 Acc: 1.0\n",
            "Epoch: 407 Loss: 0.004119272343814373 Acc: 1.0\n",
            "Epoch: 408 Loss: 0.004115120507776737 Acc: 1.0\n",
            "Epoch: 409 Loss: 0.004110976587980986 Acc: 1.0\n",
            "Epoch: 410 Loss: 0.00410684198141098 Acc: 1.0\n",
            "Epoch: 411 Loss: 0.004102714359760284 Acc: 1.0\n",
            "Epoch: 412 Loss: 0.004098590929061174 Acc: 1.0\n",
            "Epoch: 413 Loss: 0.004094474483281374 Acc: 1.0\n",
            "Epoch: 414 Loss: 0.004090372007340193 Acc: 1.0\n",
            "Epoch: 415 Loss: 0.004086273722350597 Acc: 1.0\n",
            "Epoch: 416 Loss: 0.004082182887941599 Acc: 1.0\n",
            "Epoch: 417 Loss: 0.0040781013667583466 Acc: 1.0\n",
            "Epoch: 418 Loss: 0.00407402403652668 Acc: 1.0\n",
            "Epoch: 419 Loss: 0.00406995415687561 Acc: 1.0\n",
            "Epoch: 420 Loss: 0.004065894987434149 Acc: 1.0\n",
            "Epoch: 421 Loss: 0.004061838611960411 Acc: 1.0\n",
            "Epoch: 422 Loss: 0.004057791084051132 Acc: 1.0\n",
            "Epoch: 423 Loss: 0.004053754266351461 Acc: 1.0\n",
            "Epoch: 424 Loss: 0.004049723502248526 Acc: 1.0\n",
            "Epoch: 425 Loss: 0.004045698791742325 Acc: 1.0\n",
            "Epoch: 426 Loss: 0.004041679203510284 Acc: 1.0\n",
            "Epoch: 427 Loss: 0.004037666134536266 Acc: 1.0\n",
            "Epoch: 428 Loss: 0.00403366656973958 Acc: 1.0\n",
            "Epoch: 429 Loss: 0.004029668401926756 Acc: 1.0\n",
            "Epoch: 430 Loss: 0.004025678150355816 Acc: 1.0\n",
            "Epoch: 431 Loss: 0.004021699074655771 Acc: 1.0\n",
            "Epoch: 432 Loss: 0.004017720464617014 Acc: 1.0\n",
            "Epoch: 433 Loss: 0.004013757221400738 Acc: 1.0\n",
            "Epoch: 434 Loss: 0.004009794443845749 Acc: 1.0\n",
            "Epoch: 435 Loss: 0.004005837719887495 Acc: 1.0\n",
            "Epoch: 436 Loss: 0.004001897294074297 Acc: 1.0\n",
            "Epoch: 437 Loss: 0.003997955936938524 Acc: 1.0\n",
            "Epoch: 438 Loss: 0.003994022961705923 Acc: 1.0\n",
            "Epoch: 439 Loss: 0.003990099299699068 Acc: 1.0\n",
            "Epoch: 440 Loss: 0.003986184485256672 Acc: 1.0\n",
            "Epoch: 441 Loss: 0.003982267342507839 Acc: 1.0\n",
            "Epoch: 442 Loss: 0.00397835997864604 Acc: 1.0\n",
            "Epoch: 443 Loss: 0.003974464256316423 Acc: 1.0\n",
            "Epoch: 444 Loss: 0.0039705755189061165 Acc: 1.0\n",
            "Epoch: 445 Loss: 0.003966692369431257 Acc: 1.0\n",
            "Epoch: 446 Loss: 0.003962817136198282 Acc: 1.0\n",
            "Epoch: 447 Loss: 0.003958945628255606 Acc: 1.0\n",
            "Epoch: 448 Loss: 0.003955083433538675 Acc: 1.0\n",
            "Epoch: 449 Loss: 0.003951230086386204 Acc: 1.0\n",
            "Epoch: 450 Loss: 0.003947377670556307 Acc: 1.0\n",
            "Epoch: 451 Loss: 0.003943535033613443 Acc: 1.0\n",
            "Epoch: 452 Loss: 0.0039397007785737514 Acc: 1.0\n",
            "Epoch: 453 Loss: 0.003935871180146933 Acc: 1.0\n",
            "Epoch: 454 Loss: 0.00393205089494586 Acc: 1.0\n",
            "Epoch: 455 Loss: 0.003928234335035086 Acc: 1.0\n",
            "Epoch: 456 Loss: 0.003924430347979069 Acc: 1.0\n",
            "Epoch: 457 Loss: 0.0039206258952617645 Acc: 1.0\n",
            "Epoch: 458 Loss: 0.003916830290108919 Acc: 1.0\n",
            "Epoch: 459 Loss: 0.003913037478923798 Acc: 1.0\n",
            "Epoch: 460 Loss: 0.0039092618972063065 Acc: 1.0\n",
            "Epoch: 461 Loss: 0.0039054828230291605 Acc: 1.0\n",
            "Epoch: 462 Loss: 0.0039017116650938988 Acc: 1.0\n",
            "Epoch: 463 Loss: 0.003897951915860176 Acc: 1.0\n",
            "Epoch: 464 Loss: 0.0038941954262554646 Acc: 1.0\n",
            "Epoch: 465 Loss: 0.003890448249876499 Acc: 1.0\n",
            "Epoch: 466 Loss: 0.003886707592755556 Acc: 1.0\n",
            "Epoch: 467 Loss: 0.0038829725235700607 Acc: 1.0\n",
            "Epoch: 468 Loss: 0.003879239084199071 Acc: 1.0\n",
            "Epoch: 469 Loss: 0.003875517286360264 Acc: 1.0\n",
            "Epoch: 470 Loss: 0.0038718010764569044 Acc: 1.0\n",
            "Epoch: 471 Loss: 0.0038680906873196363 Acc: 1.0\n",
            "Epoch: 472 Loss: 0.0038643910083919764 Acc: 1.0\n",
            "Epoch: 473 Loss: 0.0038606899324804544 Acc: 1.0\n",
            "Epoch: 474 Loss: 0.0038570042233914137 Acc: 1.0\n",
            "Epoch: 475 Loss: 0.0038533168844878674 Acc: 1.0\n",
            "Epoch: 476 Loss: 0.0038496386259794235 Acc: 1.0\n",
            "Epoch: 477 Loss: 0.0038459687493741512 Acc: 1.0\n",
            "Epoch: 478 Loss: 0.0038423012010753155 Acc: 1.0\n",
            "Epoch: 479 Loss: 0.003838640870526433 Acc: 1.0\n",
            "Epoch: 480 Loss: 0.003834989620372653 Acc: 1.0\n",
            "Epoch: 481 Loss: 0.00383134838193655 Acc: 1.0\n",
            "Epoch: 482 Loss: 0.0038277078419923782 Acc: 1.0\n",
            "Epoch: 483 Loss: 0.003824068233370781 Acc: 1.0\n",
            "Epoch: 484 Loss: 0.0038204421289265156 Acc: 1.0\n",
            "Epoch: 485 Loss: 0.0038168258033692837 Acc: 1.0\n",
            "Epoch: 486 Loss: 0.0038132083136588335 Acc: 1.0\n",
            "Epoch: 487 Loss: 0.003809599205851555 Acc: 1.0\n",
            "Epoch: 488 Loss: 0.003805994987487793 Acc: 1.0\n",
            "Epoch: 489 Loss: 0.00380240217782557 Acc: 1.0\n",
            "Epoch: 490 Loss: 0.0037988137919455767 Acc: 1.0\n",
            "Epoch: 491 Loss: 0.0037952279672026634 Acc: 1.0\n",
            "Epoch: 492 Loss: 0.0037916498258709908 Acc: 1.0\n",
            "Epoch: 493 Loss: 0.0037880779709666967 Acc: 1.0\n",
            "Epoch: 494 Loss: 0.003784511238336563 Acc: 1.0\n",
            "Epoch: 495 Loss: 0.0037809533532708883 Acc: 1.0\n",
            "Epoch: 496 Loss: 0.003777406644076109 Acc: 1.0\n",
            "Epoch: 497 Loss: 0.003773849457502365 Acc: 1.0\n",
            "Epoch: 498 Loss: 0.003770307172089815 Acc: 1.0\n",
            "Epoch: 499 Loss: 0.0037667774595320225 Acc: 1.0\n"
          ]
        }
      ]
    },
    {
      "cell_type": "markdown",
      "metadata": {
        "id": "WX2PSXnTDiNi"
      },
      "source": [
        "## Visualize the final node embeddings\n",
        "Visualize your final embedding here!\n",
        "You can visually compare the figure with the previous embedding figure.\n",
        "After training, you should oberserve that the two classes are more evidently separated.\n",
        "This is a great sanitity check for your implementation as well."
      ]
    },
    {
      "cell_type": "code",
      "metadata": {
        "id": "MtNgl4VhYKow",
        "colab": {
          "base_uri": "https://localhost:8080/",
          "height": 522
        },
        "outputId": "fd112733-41be-4749-9e1c-59e8a6e1c603"
      },
      "source": [
        "# Visualize the final learned embedding\n",
        "visualize_emb(emb)"
      ],
      "execution_count": 62,
      "outputs": [
        {
          "output_type": "display_data",
          "data": {
            "text/plain": [
              "<Figure size 600x600 with 1 Axes>"
            ],
            "image/png": "[encoded data removed]"
          },
          "metadata": {}
        }
      ]
    },
    {
      "cell_type": "markdown",
      "metadata": {
        "id": "FTNyrAoSVeq9"
      },
      "source": [
        "# Submission"
      ]
    },
    {
      "cell_type": "markdown",
      "metadata": {
        "id": "E_E7J_GkVhY_"
      },
      "source": [
        "In order to get credit, you must go submit your answers on Gradescope."
      ]
    }
  ]
}